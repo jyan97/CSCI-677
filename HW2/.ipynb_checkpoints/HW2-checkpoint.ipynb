{
 "cells": [
  {
   "cell_type": "code",
   "execution_count": 15,
   "metadata": {},
   "outputs": [],
   "source": [
    "from matplotlib import pyplot as plt\n",
    "from matplotlib.patches import Rectangle\n",
    "import xml.etree.ElementTree as et\n",
    "import os"
   ]
  },
  {
   "cell_type": "code",
   "execution_count": 3,
   "metadata": {},
   "outputs": [],
   "source": [
    "def is_monotonic(mat): \n",
    "    return (all(mat[i] <= mat[i + 1] for i in range(len(mat) - 1)) or\n",
    "            all(mat[i] >= mat[i + 1] for i in range(len(mat) - 1)))\n",
    "\n",
    "def coor_area(box):\n",
    "    coor_diff = [x1 - x2 for (x1, x2) in zip(box[0], box[1])]\n",
    "    return abs(coor_diff[0] * coor_diff[1])"
   ]
  },
  {
   "cell_type": "code",
   "execution_count": 4,
   "metadata": {},
   "outputs": [],
   "source": [
    "def iou_cal(box1, box2):\n",
    "    transpose = lambda x: list(map(list, zip(*x)))\n",
    "    box1_t, box2_t = transpose(box1), transpose(box2)\n",
    "    x_array = box1_t[0] + box2_t[0]\n",
    "    y_array = box1_t[1] + box2_t[1]\n",
    "    if (is_monotonic(x_array) or is_monotonic(y_array)):\n",
    "        return None\n",
    "    else:\n",
    "        x_array.sort()\n",
    "        y_array.sort()\n",
    "        overlap = abs((x_array[2] - x_array[1]) * (y_array[2] - y_array[1]))\n",
    "        return  overlap / (coor_area(box1) + coor_area(box2) - overlap)"
   ]
  },
  {
   "cell_type": "code",
   "execution_count": null,
   "metadata": {},
   "outputs": [],
   "source": [
    "def xml_parse(file_name):\n",
    "    boxes = []\n",
    "    current_path = os.path.abspath(\"./HW2_Data/Annotations/\")\n",
    "    xml_path = os.path.join(current_path, file_name)\n",
    "    tree = et.parse(xml_path)\n",
    "    root = tree.getroot()\n",
    "    for objects in root.findall('object'):\n",
    "        for box in objects.findall('bndbox'):\n",
    "            boxes.append([[int(box.find('xmin').text), int(box.find('ymin').text)], \n",
    "                         [int(box.find('xmax').text), int(box.find('ymax').text)]])\n",
    "    return boxes"
   ]
  },
  {
   "cell_type": "code",
   "execution_count": 5,
   "metadata": {},
   "outputs": [
    {
     "name": "stdout",
     "output_type": "stream",
     "text": [
      "0.23529411764705882\n"
     ]
    }
   ],
   "source": [
    "a = [[2,2],[4,5]]\n",
    "b = [[1.5,2],[6,3]]\n",
    "print(iou_cal(a,b))"
   ]
  },
  {
   "cell_type": "code",
   "execution_count": 33,
   "metadata": {},
   "outputs": [
    {
     "name": "stdout",
     "output_type": "stream",
     "text": [
      "[[[133, 62], [479, 273]], [[425, 151], [441, 202]], [[358, 36], [446, 104]], [[320, 46], [449, 142]], [[266, 70], [411, 261]], [[157, 62], [358, 273]], [[187, 139], [378, 369]], [[65, 176], [231, 375]], [[163, 266], [186, 322]], [[282, 275], [293, 295]]]\n",
      "[[[40, 127], [464, 292]], [[427, 114], [500, 167]], [[265, 147], [312, 187]]]\n",
      "[[[69, 172], [270, 330]], [[150, 141], [229, 284]], [[285, 201], [327, 331]], [[258, 198], [297, 329]]]\n",
      "[[[106, 50], [256, 122]], [[110, 95], [280, 176]], [[126, 142], [323, 236]], [[167, 194], [408, 313]]]\n"
     ]
    }
   ],
   "source": [
    "file_list = {'000009.xml', '000220.xml', '002129.xml', '006919.xml'}\n",
    "for i in file_list:\n",
    "    box_list = xml_parse(i)\n",
    "    print(box_list)"
   ]
  }
 ],
 "metadata": {
  "kernelspec": {
   "display_name": "Python 3",
   "language": "python",
   "name": "python3"
  },
  "language_info": {
   "codemirror_mode": {
    "name": "ipython",
    "version": 3
   },
   "file_extension": ".py",
   "mimetype": "text/x-python",
   "name": "python",
   "nbconvert_exporter": "python",
   "pygments_lexer": "ipython3",
   "version": "3.7.7"
  }
 },
 "nbformat": 4,
 "nbformat_minor": 4
}
